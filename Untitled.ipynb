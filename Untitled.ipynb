{
 "cells": [
  {
   "cell_type": "code",
   "execution_count": 3,
   "id": "8d0c94cb-0b5c-4b9d-a98f-66e30d46ec9b",
   "metadata": {},
   "outputs": [
    {
     "name": "stdout",
     "output_type": "stream",
     "text": [
      "Collecting torch\n",
      "  Using cached torch-2.6.0-cp312-none-macosx_11_0_arm64.whl.metadata (28 kB)\n",
      "Requirement already satisfied: filelock in /opt/anaconda3/lib/python3.12/site-packages (from torch) (3.13.1)\n",
      "Requirement already satisfied: typing-extensions>=4.10.0 in /opt/anaconda3/lib/python3.12/site-packages (from torch) (4.11.0)\n",
      "Requirement already satisfied: networkx in /opt/anaconda3/lib/python3.12/site-packages (from torch) (3.3)\n",
      "Requirement already satisfied: jinja2 in /opt/anaconda3/lib/python3.12/site-packages (from torch) (3.1.4)\n",
      "Requirement already satisfied: fsspec in /opt/anaconda3/lib/python3.12/site-packages (from torch) (2024.6.1)\n",
      "Requirement already satisfied: setuptools in /opt/anaconda3/lib/python3.12/site-packages (from torch) (75.1.0)\n",
      "Collecting sympy==1.13.1 (from torch)\n",
      "  Using cached sympy-1.13.1-py3-none-any.whl.metadata (12 kB)\n",
      "Requirement already satisfied: mpmath<1.4,>=1.1.0 in /opt/anaconda3/lib/python3.12/site-packages (from sympy==1.13.1->torch) (1.3.0)\n",
      "Requirement already satisfied: MarkupSafe>=2.0 in /opt/anaconda3/lib/python3.12/site-packages (from jinja2->torch) (2.1.3)\n",
      "Using cached torch-2.6.0-cp312-none-macosx_11_0_arm64.whl (66.5 MB)\n",
      "Using cached sympy-1.13.1-py3-none-any.whl (6.2 MB)\n",
      "Installing collected packages: sympy, torch\n",
      "  Attempting uninstall: sympy\n",
      "    Found existing installation: sympy 1.13.2\n",
      "    Uninstalling sympy-1.13.2:\n",
      "      Successfully uninstalled sympy-1.13.2\n",
      "Successfully installed sympy-1.13.1 torch-2.6.0\n",
      "Collecting torchvision\n",
      "  Using cached torchvision-0.21.0-cp312-cp312-macosx_11_0_arm64.whl.metadata (6.1 kB)\n",
      "Requirement already satisfied: numpy in /opt/anaconda3/lib/python3.12/site-packages (from torchvision) (1.26.4)\n",
      "Requirement already satisfied: torch==2.6.0 in /opt/anaconda3/lib/python3.12/site-packages (from torchvision) (2.6.0)\n",
      "Requirement already satisfied: pillow!=8.3.*,>=5.3.0 in /opt/anaconda3/lib/python3.12/site-packages (from torchvision) (10.4.0)\n",
      "Requirement already satisfied: filelock in /opt/anaconda3/lib/python3.12/site-packages (from torch==2.6.0->torchvision) (3.13.1)\n",
      "Requirement already satisfied: typing-extensions>=4.10.0 in /opt/anaconda3/lib/python3.12/site-packages (from torch==2.6.0->torchvision) (4.11.0)\n",
      "Requirement already satisfied: networkx in /opt/anaconda3/lib/python3.12/site-packages (from torch==2.6.0->torchvision) (3.3)\n",
      "Requirement already satisfied: jinja2 in /opt/anaconda3/lib/python3.12/site-packages (from torch==2.6.0->torchvision) (3.1.4)\n",
      "Requirement already satisfied: fsspec in /opt/anaconda3/lib/python3.12/site-packages (from torch==2.6.0->torchvision) (2024.6.1)\n",
      "Requirement already satisfied: setuptools in /opt/anaconda3/lib/python3.12/site-packages (from torch==2.6.0->torchvision) (75.1.0)\n",
      "Requirement already satisfied: sympy==1.13.1 in /opt/anaconda3/lib/python3.12/site-packages (from torch==2.6.0->torchvision) (1.13.1)\n",
      "Requirement already satisfied: mpmath<1.4,>=1.1.0 in /opt/anaconda3/lib/python3.12/site-packages (from sympy==1.13.1->torch==2.6.0->torchvision) (1.3.0)\n",
      "Requirement already satisfied: MarkupSafe>=2.0 in /opt/anaconda3/lib/python3.12/site-packages (from jinja2->torch==2.6.0->torchvision) (2.1.3)\n",
      "Using cached torchvision-0.21.0-cp312-cp312-macosx_11_0_arm64.whl (1.8 MB)\n",
      "Installing collected packages: torchvision\n",
      "Successfully installed torchvision-0.21.0\n"
     ]
    }
   ],
   "source": [
    "!pip install torch\n",
    "!pip install torchvision\n"
   ]
  },
  {
   "cell_type": "code",
   "execution_count": 4,
   "id": "2b9395f3",
   "metadata": {},
   "outputs": [],
   "source": [
    "import torch\n",
    "import torchvision\n",
    "import numpy as np\n",
    "import pandas as pd\n",
    "from torchvision import datasets\n",
    "from torch.utils.data import Dataset,DataLoader"
   ]
  },
  {
   "cell_type": "code",
   "execution_count": 5,
   "id": "cbc47882-d851-4352-aaba-4d213ca250c2",
   "metadata": {},
   "outputs": [],
   "source": [
    "from PIL import Image\n",
    "import matplotlib.pyplot as plt\n",
    "import os\n",
    "import glob\n"
   ]
  },
  {
   "cell_type": "code",
   "execution_count": 9,
   "id": "47db513d-70bf-4a86-a843-0e2e3496e051",
   "metadata": {},
   "outputs": [],
   "source": [
    "directory = \"resources/data\"\n",
    "\n",
    "negative = \"Negative\"\n",
    "\n",
    "negative_file_path = os.path.join(directory,negative)\n",
    "negative_files = [os.path.join(negative_file_path,file) for file in os.listdir(negative_file_path) if file.endswith(\".jpg\")]\n",
    "negative_files.sort()\n",
    "positive = \"Positive\"\n",
    "positive_file_path = os.path.join(directory,positive)\n",
    "positive_files = [os.path.join(positive_file_path,file) for file in os.listdir(positive_file_path) if file.endswith(\".jpg\")]\n",
    "positive_files.sort()"
   ]
  },
  {
   "cell_type": "code",
   "execution_count": 11,
   "id": "77d870b6-f6f8-4082-916a-bde4f3edc155",
   "metadata": {},
   "outputs": [
    {
     "data": {
      "text/plain": [
       "(['resources/data/Negative/00001.jpg',\n",
       "  'resources/data/Negative/00002.jpg',\n",
       "  'resources/data/Negative/00003.jpg'],\n",
       " ['resources/data/Positive/00001.jpg',\n",
       "  'resources/data/Positive/00002.jpg',\n",
       "  'resources/data/Positive/00003.jpg'])"
      ]
     },
     "execution_count": 11,
     "metadata": {},
     "output_type": "execute_result"
    }
   ],
   "source": [
    "negative_files[:3],positive_files[:3]"
   ]
  },
  {
   "cell_type": "code",
   "execution_count": 12,
   "id": "515b670d-6540-4f13-ae22-6934fa5f47e0",
   "metadata": {},
   "outputs": [
    {
     "data": {
      "text/plain": [
       "list"
      ]
     },
     "execution_count": 12,
     "metadata": {},
     "output_type": "execute_result"
    }
   ],
   "source": [
    "type(negative_files)"
   ]
  },
  {
   "cell_type": "code",
   "execution_count": 13,
   "id": "38dd2972-f1c8-4bc8-a4c7-dccbb76f93f1",
   "metadata": {},
   "outputs": [],
   "source": [
    "number_of_samples = len(positive_files)+len(negative_files)"
   ]
  },
  {
   "cell_type": "code",
   "execution_count": 14,
   "id": "a597627b-7a9c-4835-a2a0-9de8456bf7e8",
   "metadata": {},
   "outputs": [
    {
     "data": {
      "text/plain": [
       "40000"
      ]
     },
     "execution_count": 14,
     "metadata": {},
     "output_type": "execute_result"
    }
   ],
   "source": [
    "number_of_samples"
   ]
  },
  {
   "cell_type": "markdown",
   "id": "c03da484-e12d-42b6-bdd8-cfcb7c3f52b9",
   "metadata": {},
   "source": [
    "## Assign Labels to Images"
   ]
  },
  {
   "cell_type": "code",
   "execution_count": 16,
   "id": "329ff74f-25e5-4c8a-8972-976b617438b5",
   "metadata": {},
   "outputs": [],
   "source": [
    "Y = torch.zeros(number_of_samples)\n"
   ]
  },
  {
   "cell_type": "code",
   "execution_count": 17,
   "id": "674531b3-126f-43cb-950f-7929ee0a54ce",
   "metadata": {},
   "outputs": [
    {
     "data": {
      "text/plain": [
       "tensor([0., 0., 0., 0., 0., 0., 0., 0., 0., 0.])"
      ]
     },
     "execution_count": 17,
     "metadata": {},
     "output_type": "execute_result"
    }
   ],
   "source": [
    "Y[:10]"
   ]
  },
  {
   "cell_type": "code",
   "execution_count": 18,
   "id": "42182cfe-c9ed-4469-b7b7-e6bbdb4238b1",
   "metadata": {},
   "outputs": [
    {
     "data": {
      "text/plain": [
       "'torch.LongTensor'"
      ]
     },
     "execution_count": 18,
     "metadata": {},
     "output_type": "execute_result"
    }
   ],
   "source": [
    "Y = Y.type(torch.LongTensor)\n",
    "Y.type()"
   ]
  },
  {
   "cell_type": "code",
   "execution_count": 19,
   "id": "015043c6-3afc-4c7f-8286-cae5d252b51e",
   "metadata": {},
   "outputs": [
    {
     "data": {
      "text/plain": [
       "['resources/data/Positive/00001.jpg',\n",
       " 'resources/data/Negative/00001.jpg',\n",
       " 'resources/data/Positive/00002.jpg',\n",
       " 'resources/data/Negative/00002.jpg']"
      ]
     },
     "execution_count": 19,
     "metadata": {},
     "output_type": "execute_result"
    }
   ],
   "source": [
    "Y[::2] = 1\n",
    "Y[1::2]=0\n",
    "\n",
    "all_files = []\n",
    "\n",
    "for positive, negative in zip(positive_files,negative_files):\n",
    "    all_files.append(positive)\n",
    "    all_files.append(negative)\n",
    "\n",
    "\n",
    "# print first 4 samples\n",
    "all_files[:4]"
   ]
  },
  {
   "cell_type": "code",
   "execution_count": null,
   "id": "fbc362f3-0729-490b-ae33-8ffc9b5626d1",
   "metadata": {},
   "outputs": [],
   "source": []
  }
 ],
 "metadata": {
  "kernelspec": {
   "display_name": "Python 3 (ipykernel)",
   "language": "python",
   "name": "python3"
  },
  "language_info": {
   "codemirror_mode": {
    "name": "ipython",
    "version": 3
   },
   "file_extension": ".py",
   "mimetype": "text/x-python",
   "name": "python",
   "nbconvert_exporter": "python",
   "pygments_lexer": "ipython3",
   "version": "3.12.7"
  }
 },
 "nbformat": 4,
 "nbformat_minor": 5
}
